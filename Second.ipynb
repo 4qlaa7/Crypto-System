{
 "cells": [
  {
   "cell_type": "code",
   "execution_count": 8,
   "metadata": {},
   "outputs": [],
   "source": [
    "import socket\n"
   ]
  },
  {
   "cell_type": "code",
   "execution_count": 9,
   "metadata": {},
   "outputs": [
    {
     "name": "stdout",
     "output_type": "stream",
     "text": [
      "b'AES:hello'\n",
      "b'AES:hello'\n",
      "b'AES:hii'\n",
      "b'DES:7mada'\n"
     ]
    }
   ],
   "source": [
    "mySocket = socket.socket()\n",
    "mySocket.connect(('localhost',4343))\n",
    "while True:\n",
    "\tdata = mySocket.recv(1024)\n",
    "\tprint(data)"
   ]
  }
 ],
 "metadata": {
  "kernelspec": {
   "display_name": "base",
   "language": "python",
   "name": "python3"
  },
  "language_info": {
   "codemirror_mode": {
    "name": "ipython",
    "version": 3
   },
   "file_extension": ".py",
   "mimetype": "text/x-python",
   "name": "python",
   "nbconvert_exporter": "python",
   "pygments_lexer": "ipython3",
   "version": "3.9.18"
  }
 },
 "nbformat": 4,
 "nbformat_minor": 2
}
