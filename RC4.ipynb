{
  "nbformat": 4,
  "nbformat_minor": 0,
  "metadata": {
    "colab": {
      "provenance": []
    },
    "kernelspec": {
      "name": "python3",
      "display_name": "Python 3"
    },
    "language_info": {
      "name": "python"
    }
  },
  "cells": [
    {
      "cell_type": "code",
      "execution_count": null,
      "metadata": {
        "colab": {
          "base_uri": "https://localhost:8080/"
        },
        "id": "VwiI6ozBUFLN",
        "outputId": "b6bbaf98-2b08-4172-a4e1-efd9713a4141"
      },
      "outputs": [
        {
          "output_type": "stream",
          "name": "stdout",
          "text": [
            "12345\n",
            "Ciphertext: b'%\\x8a\\x0fs\\xea'\n",
            "Decrypted Text: 12345\n"
          ]
        }
      ],
      "source": [
        "    #key scheduling algorithm\n",
        "def ksa(key):\n",
        "    key_length = len(key)\n",
        "    # state array\n",
        "    S = list(range(256))\n",
        "    # indix for permutations\n",
        "    j = 0\n",
        "\n",
        "    # Convert key characters to ASCII values\n",
        "    key = [ord(char) for char in key]\n",
        "    # generating the final state array\n",
        "    for i in range(256):\n",
        "    #array permutation based on the key\n",
        "        j = (j + S[i] + key[i % key_length]) % 256\n",
        "        S[i], S[j] = S[j], S[i]\n",
        "\n",
        "    return S\n",
        "\n",
        "    # pseudo-random generation algorithm\n",
        "def prga(S, data):\n",
        "    # pointers for updating and generating the key stream\n",
        "    i = j = 0\n",
        "    result = []\n",
        "    # pseudo-random bytes generation\n",
        "    for byte in data:\n",
        "        i = (i + 1) % 256\n",
        "        j = (j + S[i]) % 256\n",
        "        S[i], S[j] = S[j], S[i]\n",
        "      #XORing each byte of the input data with the pseudo-random bytes generated\n",
        "        t = (S[i] + S[j]) % 256\n",
        "        result.append(byte ^ S[t])\n",
        "\n",
        "    return bytes(result)\n",
        "\n",
        "     #produce the final pseudo-random stream\n",
        "def rc4(key, data):\n",
        "    S = ksa(key)\n",
        "    return prga(S, data)\n",
        "\n",
        "    #encryption\n",
        "def rc4_encrypt(key, plaintext):\n",
        "    plaintext_bytes = [ord(char) for char in plaintext]\n",
        "    ciphertext_bytes = rc4(key, plaintext_bytes)\n",
        "    return bytes(ciphertext_bytes)\n",
        "\n",
        "    #decryption\n",
        "def rc4_decrypt(key, ciphertext):\n",
        "    ciphertext_bytes = [byte for byte in ciphertext]\n",
        "    decrypted_bytes = rc4(key, ciphertext_bytes)\n",
        "    return bytes(decrypted_bytes).decode('utf-8')\n",
        "\n",
        "\n",
        "# Example usage:\n",
        "key = \"SecretKey\"\n",
        "plaintext = input()\n",
        "\n",
        "# Encryption\n",
        "ciphertext = rc4_encrypt(key, plaintext)\n",
        "print(\"Ciphertext:\", ciphertext)\n",
        "\n",
        "# Decryption\n",
        "decrypted_text = rc4_decrypt(key, ciphertext)\n",
        "print(\"Decrypted Text:\", decrypted_text)\n"
      ]
    },
    {
      "cell_type": "code",
      "source": [],
      "metadata": {
        "id": "-GnJv8E6P3WM"
      },
      "execution_count": null,
      "outputs": []
    }
  ]
}